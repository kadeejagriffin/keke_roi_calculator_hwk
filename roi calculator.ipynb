{
 "cells": [
  {
   "cell_type": "code",
   "execution_count": 2,
   "id": "98bca06a",
   "metadata": {},
   "outputs": [
    {
     "name": "stdout",
     "output_type": "stream",
     "text": [
      "Welcome to your ROI Calculator: \n",
      "===============================\n",
      "ROI: -16200.00%\n"
     ]
    }
   ],
   "source": [
    "class RentalProperty:\n",
    "    print('Welcome to your ROI Calculator: \\n===============================') \n",
    "    def __init__(self):\n",
    "        self.income = income\n",
    "        self.insurance = insurance\n",
    "        self.utilities = utilities\n",
    "        self.property_management = property_management\n",
    "        self.mortgage = mortgage\n",
    "        self.total_investment = total_investment\n",
    "        \n",
    "    def get_income(self):\n",
    "            self.income = float(input(\"Enter the monthly income amount: \"))\n",
    "            self.insurance = float(input(\"Enter the monthly insurance amount: \"))\n",
    "            self.utilities = float(input(\"Enter the monthly utilities amount: \"))\n",
    "            self.property_management = float(input(\"Enter the monthly property management amount: \"))\n",
    "            self.mortgage = float(input(\"Enter the monthly mortgage amount: \"))\n",
    "            self.total_investment = float(input(\"Enter the total investment amount: \"))\n",
    "            \n",
    "    def cash_flow(self):\n",
    "        total_expenses = (\n",
    "            self.income\n",
    "            + self.insurance\n",
    "            + self.utilities\n",
    "            + self.property_management\n",
    "            + self.mortgage\n",
    "        )\n",
    "        self.cash_flow = self.income - total_expenses\n",
    "        return self.cash_flow\n",
    "\n",
    "    def calculate_roi(self):\n",
    "        total_investment = float(input('Enter your total investment amount: '))\n",
    "        annual_cash_flow = self.cash_flow() * 12\n",
    "        roi = (annual_cash_flow / total_investment) * 100\n",
    "        return f\"{roi:.2f}%\"\n",
    "\n",
    "income = float(input(\"Enter the monthly income amount: \"))\n",
    "insurance = float(input(\"Enter the monthly insurance amount: \"))\n",
    "utilities = float(input(\"Enter the monthly utilities amount: \"))\n",
    "property_management = float(input(\"Enter the monthly property management amount: \"))\n",
    "mortgage = float(input(\"Enter the monthly mortgage amount: \"))\n",
    "total_investment = float(input(\"Enter the total investment amount: \"))\n",
    "\n",
    "rental_property = RentalProperty()\n",
    "print(\"ROI:\", rental_property.calculate_roi())\n"
   ]
  },
  {
   "cell_type": "code",
   "execution_count": null,
   "id": "77f87c28",
   "metadata": {},
   "outputs": [],
   "source": []
  },
  {
   "cell_type": "code",
   "execution_count": null,
   "id": "466aa6b9",
   "metadata": {},
   "outputs": [],
   "source": []
  },
  {
   "cell_type": "code",
   "execution_count": null,
   "id": "b98ae8f1",
   "metadata": {},
   "outputs": [],
   "source": []
  }
 ],
 "metadata": {
  "kernelspec": {
   "display_name": "Python 3 (ipykernel)",
   "language": "python",
   "name": "python3"
  },
  "language_info": {
   "codemirror_mode": {
    "name": "ipython",
    "version": 3
   },
   "file_extension": ".py",
   "mimetype": "text/x-python",
   "name": "python",
   "nbconvert_exporter": "python",
   "pygments_lexer": "ipython3",
   "version": "3.11.7"
  }
 },
 "nbformat": 4,
 "nbformat_minor": 5
}
